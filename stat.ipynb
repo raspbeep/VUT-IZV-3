{
 "cells": [
  {
   "cell_type": "code",
   "execution_count": 1,
   "outputs": [],
   "source": [
    "import pandas as pd\n",
    "from scipy.stats import chi2_contingency, ttest_ind"
   ],
   "metadata": {
    "collapsed": false
   }
  },
  {
   "cell_type": "markdown",
   "source": [
    "Load data from pickle archive"
   ],
   "metadata": {
    "collapsed": false
   }
  },
  {
   "cell_type": "code",
   "execution_count": 2,
   "outputs": [],
   "source": [
    "df = pd.read_pickle(\"accidents.pkl.gz\")"
   ],
   "metadata": {
    "collapsed": false
   }
  },
  {
   "cell_type": "markdown",
   "source": [
    "# Two hypothesis will be investigated\n",
    "\n",
    "### Hypothesis 1: The death probability on 1. class roads is the same as death probability on 3. class roads."
   ],
   "metadata": {
    "collapsed": false
   }
  },
  {
   "cell_type": "markdown",
   "source": [
    "Create a new column `fatal_accident` with a boolean value True if the accident was fatal"
   ],
   "metadata": {
    "collapsed": false
   }
  },
  {
   "cell_type": "code",
   "execution_count": 3,
   "outputs": [],
   "source": [
    "df.loc[df[\"p13a\"] > 0, \"fatal_accident\"] = True\n",
    "df.loc[df[\"p13a\"] == 0, \"fatal_accident\"] = False"
   ],
   "metadata": {
    "collapsed": false
   }
  },
  {
   "cell_type": "markdown",
   "source": [
    "Filter only 1. and 3. class roads"
   ],
   "metadata": {
    "collapsed": false
   }
  },
  {
   "cell_type": "code",
   "execution_count": 4,
   "outputs": [
    {
     "data": {
      "text/plain": "             p1 fatal_accident\n0  002100160001          False\n1  002100160002          False\n2  002100160003          False\n3  002100160004          False\n4  002100160005          False",
      "text/html": "<div>\n<style scoped>\n    .dataframe tbody tr th:only-of-type {\n        vertical-align: middle;\n    }\n\n    .dataframe tbody tr th {\n        vertical-align: top;\n    }\n\n    .dataframe thead th {\n        text-align: right;\n    }\n</style>\n<table border=\"1\" class=\"dataframe\">\n  <thead>\n    <tr style=\"text-align: right;\">\n      <th></th>\n      <th>p1</th>\n      <th>fatal_accident</th>\n    </tr>\n  </thead>\n  <tbody>\n    <tr>\n      <th>0</th>\n      <td>002100160001</td>\n      <td>False</td>\n    </tr>\n    <tr>\n      <th>1</th>\n      <td>002100160002</td>\n      <td>False</td>\n    </tr>\n    <tr>\n      <th>2</th>\n      <td>002100160003</td>\n      <td>False</td>\n    </tr>\n    <tr>\n      <th>3</th>\n      <td>002100160004</td>\n      <td>False</td>\n    </tr>\n    <tr>\n      <th>4</th>\n      <td>002100160005</td>\n      <td>False</td>\n    </tr>\n  </tbody>\n</table>\n</div>"
     },
     "execution_count": 4,
     "metadata": {},
     "output_type": "execute_result"
    }
   ],
   "source": [
    "df_filtered = df[df[\"p36\"].isin([1, 3])]\n",
    "df[[\"p1\", \"fatal_accident\"]].head(5)"
   ],
   "metadata": {
    "collapsed": false
   }
  },
  {
   "cell_type": "markdown",
   "source": [
    "Create a contingency table with frequency distribution of fatal accidents on 1. and 3. class roads"
   ],
   "metadata": {
    "collapsed": false
   }
  },
  {
   "cell_type": "code",
   "execution_count": 5,
   "outputs": [
    {
     "data": {
      "text/plain": "p36                 1      3\nfatal_accident              \nFalse           78618  73352\nTrue              911    448",
      "text/html": "<div>\n<style scoped>\n    .dataframe tbody tr th:only-of-type {\n        vertical-align: middle;\n    }\n\n    .dataframe tbody tr th {\n        vertical-align: top;\n    }\n\n    .dataframe thead th {\n        text-align: right;\n    }\n</style>\n<table border=\"1\" class=\"dataframe\">\n  <thead>\n    <tr style=\"text-align: right;\">\n      <th>p36</th>\n      <th>1</th>\n      <th>3</th>\n    </tr>\n    <tr>\n      <th>fatal_accident</th>\n      <th></th>\n      <th></th>\n    </tr>\n  </thead>\n  <tbody>\n    <tr>\n      <th>False</th>\n      <td>78618</td>\n      <td>73352</td>\n    </tr>\n    <tr>\n      <th>True</th>\n      <td>911</td>\n      <td>448</td>\n    </tr>\n  </tbody>\n</table>\n</div>"
     },
     "execution_count": 5,
     "metadata": {},
     "output_type": "execute_result"
    }
   ],
   "source": [
    "contingency_table = pd.crosstab(index=df_filtered[\"fatal_accident\"], columns=df_filtered[\"p36\"])\n",
    "contingency_table"
   ],
   "metadata": {
    "collapsed": false
   }
  },
  {
   "cell_type": "markdown",
   "source": [
    "Perform Chi-square contingency test of independence of variables in the previously calculated contingency table"
   ],
   "metadata": {
    "collapsed": false
   }
  },
  {
   "cell_type": "code",
   "execution_count": 6,
   "outputs": [
    {
     "data": {
      "text/plain": "(125.72070150000258,\n 3.5395243450138555e-29,\n 1,\n array([[78824.11109444, 73145.88890556],\n        [  704.88890556,   654.11109444]]))"
     },
     "execution_count": 6,
     "metadata": {},
     "output_type": "execute_result"
    }
   ],
   "source": [
    "res = chi2_contingency(contingency_table)\n",
    "g, p, dof, expected = res\n",
    "(g,p,dof,expected)"
   ],
   "metadata": {
    "collapsed": false
   }
  },
  {
   "cell_type": "markdown",
   "source": [
    "Subtract the expected frequencies from captured frequencies in input dataset"
   ],
   "metadata": {
    "collapsed": false
   }
  },
  {
   "cell_type": "code",
   "execution_count": 7,
   "outputs": [
    {
     "data": {
      "text/plain": "p36                      1           3\nfatal_accident                        \nFalse          -206.111094  206.111094\nTrue            206.111094 -206.111094",
      "text/html": "<div>\n<style scoped>\n    .dataframe tbody tr th:only-of-type {\n        vertical-align: middle;\n    }\n\n    .dataframe tbody tr th {\n        vertical-align: top;\n    }\n\n    .dataframe thead th {\n        text-align: right;\n    }\n</style>\n<table border=\"1\" class=\"dataframe\">\n  <thead>\n    <tr style=\"text-align: right;\">\n      <th>p36</th>\n      <th>1</th>\n      <th>3</th>\n    </tr>\n    <tr>\n      <th>fatal_accident</th>\n      <th></th>\n      <th></th>\n    </tr>\n  </thead>\n  <tbody>\n    <tr>\n      <th>False</th>\n      <td>-206.111094</td>\n      <td>206.111094</td>\n    </tr>\n    <tr>\n      <th>True</th>\n      <td>206.111094</td>\n      <td>-206.111094</td>\n    </tr>\n  </tbody>\n</table>\n</div>"
     },
     "execution_count": 7,
     "metadata": {},
     "output_type": "execute_result"
    }
   ],
   "source": [
    "contingency_table - expected"
   ],
   "metadata": {
    "collapsed": false
   }
  },
  {
   "cell_type": "markdown",
   "source": [
    "## Hypothesis 1 conclusion:\n",
    "#### Since the p-value is much smaller than a=0.05, we reject the H0 hypothesis. There is sufficient evidence to support the claim that more accidents happen on 1. class roads."
   ],
   "metadata": {
    "collapsed": false
   }
  },
  {
   "cell_type": "markdown",
   "source": [
    "### Hypothesis 2: Economic cost of damage to investigated vehicle in accidents caused by Skoda vehicles is lower than those cause by Audio vehicles."
   ],
   "metadata": {
    "collapsed": false
   }
  },
  {
   "cell_type": "markdown",
   "source": [
    "Filtering of accidents caused by Audi and Skoda vehicles"
   ],
   "metadata": {
    "collapsed": false
   }
  },
  {
   "cell_type": "code",
   "execution_count": 8,
   "outputs": [
    {
     "data": {
      "text/plain": "(0         4000\n 64         400\n 121        500\n 122          0\n 123        200\n           ... \n 572799     100\n 572810      10\n 572818     300\n 572842     700\n 572931      50\n Name: p53, Length: 11445, dtype: int64,\n 6          200\n 9          300\n 11          50\n 16        1200\n 17         500\n           ... \n 572903    1200\n 572911      10\n 572916     130\n 572921     100\n 572923       0\n Name: p53, Length: 118379, dtype: int64)"
     },
     "execution_count": 8,
     "metadata": {},
     "output_type": "execute_result"
    }
   ],
   "source": [
    "audi = df[df[\"p45a\"] == 2][\"p53\"]\n",
    "skoda = df[df[\"p45a\"] == 39][\"p53\"]\n",
    "(audi, skoda)"
   ],
   "metadata": {
    "collapsed": false
   }
  },
  {
   "cell_type": "markdown",
   "source": [
    "Perform the t-test for the means of two independent samples of scores (Skoda and Audi brands)"
   ],
   "metadata": {
    "collapsed": false
   }
  },
  {
   "cell_type": "code",
   "execution_count": 9,
   "outputs": [
    {
     "data": {
      "text/plain": "Ttest_indResult(statistic=-23.622116776600297, pvalue=6.1078288453876684e-121)"
     },
     "execution_count": 9,
     "metadata": {},
     "output_type": "execute_result"
    }
   ],
   "source": [
    "ttest_ind(skoda, audi, equal_var=False, alternative='less')"
   ],
   "metadata": {
    "collapsed": false
   }
  },
  {
   "cell_type": "markdown",
   "source": [
    "## Hypothesis 2 conclusion:\n",
    "#### Using t-test, the H0 hypothesis was that the damage for both car brands is equally distributed. Since the p-value is much smaller than a=0.05, we reject the H0 hypothesis. There is sufficient evidence to support the claim that the economic cost of damage to vehicle in accidents caused by Skoda vehicles is lower than those cause by Audi vehicles."
   ],
   "metadata": {
    "collapsed": false
   }
  }
 ],
 "metadata": {
  "kernelspec": {
   "display_name": "Python 3",
   "language": "python",
   "name": "python3"
  },
  "language_info": {
   "codemirror_mode": {
    "name": "ipython",
    "version": 2
   },
   "file_extension": ".py",
   "mimetype": "text/x-python",
   "name": "python",
   "nbconvert_exporter": "python",
   "pygments_lexer": "ipython2",
   "version": "2.7.6"
  }
 },
 "nbformat": 4,
 "nbformat_minor": 0
}
